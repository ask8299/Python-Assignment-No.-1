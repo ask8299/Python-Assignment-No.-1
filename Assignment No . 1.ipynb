{
 "cells": [
  {
   "cell_type": "markdown",
   "metadata": {},
   "source": [
    "# Question 1\n",
    "Try 5 different functions of string in Python"
   ]
  },
  {
   "cell_type": "code",
   "execution_count": 2,
   "metadata": {},
   "outputs": [
    {
     "name": "stdout",
     "output_type": "stream",
     "text": [
      "Hii, How are you?\n"
     ]
    }
   ],
   "source": [
    "str1 = \"Hii, Who are you?\"\n",
    "print(str1.replace(\"Who\",\"How\"))"
   ]
  },
  {
   "cell_type": "markdown",
   "metadata": {},
   "source": [
    "str2 = \"Python\"\n",
    "print(''.join(reversed(str2)))"
   ]
  },
  {
   "cell_type": "code",
   "execution_count": 6,
   "metadata": {},
   "outputs": [
    {
     "name": "stdout",
     "output_type": "stream",
     "text": [
      "['Hii', 'How', 'are', 'you', '?']\n"
     ]
    }
   ],
   "source": [
    "str3 = \"Hii How are you ?\"\n",
    "print(str3.split())"
   ]
  },
  {
   "cell_type": "code",
   "execution_count": 7,
   "metadata": {},
   "outputs": [
    {
     "name": "stdout",
     "output_type": "stream",
     "text": [
      "lets upgrade\n"
     ]
    }
   ],
   "source": [
    "str4 = \"LETS UPGRADE\"\n",
    "print(str4.lower())"
   ]
  },
  {
   "cell_type": "code",
   "execution_count": 9,
   "metadata": {},
   "outputs": [
    {
     "name": "stdout",
     "output_type": "stream",
     "text": [
      "11\n"
     ]
    }
   ],
   "source": [
    "str5 = \"LetsUpgrade\"\n",
    "print(len(str5))"
   ]
  },
  {
   "cell_type": "markdown",
   "metadata": {},
   "source": [
    "# Question 2\n",
    "Try 5 different functions of list object in Python"
   ]
  },
  {
   "cell_type": "code",
   "execution_count": 10,
   "metadata": {},
   "outputs": [
    {
     "name": "stdout",
     "output_type": "stream",
     "text": [
      "['Pune', 'Banglore', 'Mumbai', 'Hyderabad']\n"
     ]
    }
   ],
   "source": [
    "list1 = [\"Pune\",\"Banglore\",\"Mumbai\"]\n",
    "list1.append(\"Hyderabad\")\n",
    "print(list1)"
   ]
  },
  {
   "cell_type": "code",
   "execution_count": 11,
   "metadata": {},
   "outputs": [
    {
     "name": "stdout",
     "output_type": "stream",
     "text": [
      "['Pune', 'Banglore', 'Mumbai', 'Hyderabad']\n"
     ]
    }
   ],
   "source": [
    "list1 = [\"Pune\",\"Banglore\"]\n",
    "tuple1 = (\"Mumbai\",\"Hyderabad\")\n",
    "list1.extend(tuple1)\n",
    "print(list1)"
   ]
  },
  {
   "cell_type": "code",
   "execution_count": 12,
   "metadata": {},
   "outputs": [
    {
     "name": "stdout",
     "output_type": "stream",
     "text": [
      "2\n"
     ]
    }
   ],
   "source": [
    "list1 = [\"Pune\",\"Banglore\",\"Mumbai\",\"Hyderabad\"]\n",
    "ind = list1.index(\"Mumbai\")\n",
    "print(ind)"
   ]
  },
  {
   "cell_type": "code",
   "execution_count": 13,
   "metadata": {},
   "outputs": [
    {
     "name": "stdout",
     "output_type": "stream",
     "text": [
      "['Pune', 'Banglore', 'Mumbai', 'Hyderabad']\n"
     ]
    }
   ],
   "source": [
    "list1 = [\"Pune\",\"Banglore\",\"Mumbai\",\"12345\",\"Hyderabad\"]\n",
    "list1.remove(\"12345\")\n",
    "print(list1)"
   ]
  },
  {
   "cell_type": "code",
   "execution_count": 21,
   "metadata": {},
   "outputs": [
    {
     "name": "stdout",
     "output_type": "stream",
     "text": [
      "['Banglore', 'Hyderabad', 'Mumbai', 'Pune']\n"
     ]
    }
   ],
   "source": [
    "list1 = [\"Pune\",\"Banglore\",\"Mumbai\",\"Hyderabad\"]\n",
    "list1.sort()\n",
    "print(list1)"
   ]
  },
  {
   "cell_type": "markdown",
   "metadata": {},
   "source": [
    "# Question 3\n",
    "Experiment with 5 default funtions with Dictionary"
   ]
  },
  {
   "cell_type": "code",
   "execution_count": 25,
   "metadata": {},
   "outputs": [
    {
     "name": "stdout",
     "output_type": "stream",
     "text": [
      "{1: 1, 2: 4, 4: 16, 5: 25, 6: 36}\n"
     ]
    }
   ],
   "source": [
    "Dict1 = {1:1 ,2:4, 3:9 , 4:16 , 5:25 , 6:36}\n",
    "Dict1.pop(3)\n",
    "print(Dict1)"
   ]
  },
  {
   "cell_type": "code",
   "execution_count": 26,
   "metadata": {},
   "outputs": [
    {
     "name": "stdout",
     "output_type": "stream",
     "text": [
      "{1: 1, 2: 4, 3: 9, 4: 16, 5: 25}\n"
     ]
    }
   ],
   "source": [
    "Dict1 = {1:1 ,2:4, 3:9 , 4:16 , 5:25 , 6:36}\n",
    "Dict1.popitem()\n",
    "print(Dict1)"
   ]
  },
  {
   "cell_type": "code",
   "execution_count": 28,
   "metadata": {},
   "outputs": [
    {
     "name": "stdout",
     "output_type": "stream",
     "text": [
      "dict_values([10, 15, 50])\n",
      "dict_values([10, 15, 100])\n"
     ]
    }
   ],
   "source": [
    "fruit_qa = {\"Apple\":10 , \"Banana\":15 , \"Grapes\":50}\n",
    "print(fruit_qa.values())\n",
    "fruit_qa[\"Grapes\"] = 100\n",
    "print(fruit_qa.values())"
   ]
  },
  {
   "cell_type": "code",
   "execution_count": 30,
   "metadata": {},
   "outputs": [
    {
     "name": "stdout",
     "output_type": "stream",
     "text": [
      "{'Apple': 10, 'Banana': 15, 'Grapes': 50}\n",
      "{'Apple': 10, 'Banana': 15, 'Grapes': 50, 'Cherry': 70}\n"
     ]
    }
   ],
   "source": [
    "fruit_qa = {\"Apple\":10 , \"Banana\":15 , \"Grapes\":50}\n",
    "print(fruit_qa)\n",
    "fruit_qa.update({\"Cherry\":70})\n",
    "print(fruit_qa)"
   ]
  },
  {
   "cell_type": "code",
   "execution_count": 32,
   "metadata": {},
   "outputs": [
    {
     "name": "stdout",
     "output_type": "stream",
     "text": [
      "15\n",
      "None\n"
     ]
    }
   ],
   "source": [
    "fruit_qa = {\"Apple\":10 , \"Banana\":15 , \"Grapes\":50}\n",
    "print(fruit_qa.get(\"Banana\"))\n",
    "print(fruit_qa.get(\"Chiku\"))"
   ]
  }
 ],
 "metadata": {
  "kernelspec": {
   "display_name": "Python 3",
   "language": "python",
   "name": "python3"
  },
  "language_info": {
   "codemirror_mode": {
    "name": "ipython",
    "version": 3
   },
   "file_extension": ".py",
   "mimetype": "text/x-python",
   "name": "python",
   "nbconvert_exporter": "python",
   "pygments_lexer": "ipython3",
   "version": "3.7.7"
  }
 },
 "nbformat": 4,
 "nbformat_minor": 4
}
